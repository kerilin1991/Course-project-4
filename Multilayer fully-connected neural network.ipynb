{
 "cells": [
  {
   "cell_type": "code",
   "execution_count": 111,
   "metadata": {},
   "outputs": [],
   "source": [
    "import tensorflow as tf\n",
    "\n",
    "graph = tf.Graph()\n",
    "\n",
    "with graph.as_default():\n",
    "    X = tf.placeholder(dtype=tf.float32, shape=[None, 4096])\n",
    "    y = tf.placeholder(dtype=tf.int64, shape=[None])\n",
    "\n",
    "    hidden = tf.layers.dense(\n",
    "        X, 64, activation=tf.nn.relu,\n",
    "        kernel_initializer=tf.variance_scaling_initializer(scale=2, seed=0),\n",
    "        bias_initializer=tf.zeros_initializer(),\n",
    "        name='hidden'\n",
    "    )\n",
    "    \n",
    "    training = tf.placeholder(dtype=tf.bool)\n",
    "    hidden = tf.layers.dropout(hidden, rate=0.5, seed=0, training=training)\n",
    "    \n",
    "    logits = tf.layers.dense(\n",
    "        hidden, 4, activation=None,\n",
    "        kernel_initializer=tf.variance_scaling_initializer(scale=1, seed=0),\n",
    "        bias_initializer=tf.zeros_initializer(),\n",
    "        name='output'\n",
    "    )"
   ]
  },
  {
   "cell_type": "code",
   "execution_count": 112,
   "metadata": {},
   "outputs": [],
   "source": [
    "with graph.as_default():\n",
    "\n",
    "    # Hidden layer weights\n",
    "    with tf.variable_scope('hidden', reuse=True):\n",
    "        W1 = tf.get_variable('kernel')\n",
    "    \n",
    "    # Output layer weights\n",
    "    with tf.variable_scope('output', reuse=True):\n",
    "        W2 = tf.get_variable('kernel')\n",
    "\n",
    "    # Loss fuction: mean cross-entropy\n",
    "    mean_ce = tf.reduce_mean(\n",
    "        tf.nn.sparse_softmax_cross_entropy_with_logits(\n",
    "            labels=y, logits=logits))\n",
    "\n",
    "    # Gradient descent\n",
    "    lr = tf.placeholder(dtype=tf.float32)\n",
    "    gd = tf.train.GradientDescentOptimizer(learning_rate=lr)\n",
    "\n",
    "    # Compute predictions and accuracy\n",
    "    predictions = tf.argmax(logits, axis=1, output_type=tf.int64)\n",
    "    is_correct = tf.equal(y, predictions)\n",
    "    accuracy = tf.reduce_mean(tf.cast(is_correct, dtype=tf.float32))"
   ]
  },
  {
   "cell_type": "code",
   "execution_count": 113,
   "metadata": {},
   "outputs": [],
   "source": [
    "with graph.as_default():\n",
    "    # L2 term\n",
    "    l2_term_hidden = tf.nn.l2_loss(W1)\n",
    "    l2_term_logits = tf.nn.l2_loss(W2)\n",
    "\n",
    "    # Regularization strength\n",
    "    alpha = tf.placeholder(dtype=tf.float32)\n",
    "\n",
    "    # Loss function\n",
    "    loss = mean_ce + alpha * (l2_term_hidden + l2_term_logits)\n",
    "\n",
    "    # Training operation\n",
    "    train_op = gd.minimize(loss)"
   ]
  },
  {
   "cell_type": "code",
   "execution_count": 103,
   "metadata": {},
   "outputs": [],
   "source": [
    "import numpy as np\n",
    "from sklearn.model_selection import train_test_split\n",
    "from sklearn.preprocessing import StandardScaler\n",
    "\n",
    "with np.load('cifar4-train.npz', allow_pickle=False) as npz_file:\n",
    "    df = dict(npz_file.items())\n",
    "X = df['overfeat']\n",
    "y = df['labels']\n",
    "\n",
    "X_tr,X_te,y_tr,y_te = train_test_split(X.astype(np.float32),y,train_size=4000,test_size=1000,random_state=0,stratify = y)\n",
    "X_tr_tr,X_tr_valid,y_tr_tr,y_tr_valid = train_test_split(X_tr,y_tr,train_size=3200,test_size=800,random_state=0)"
   ]
  },
  {
   "cell_type": "code",
   "execution_count": 104,
   "metadata": {},
   "outputs": [],
   "source": [
    "# Rescale the train and validation data\n",
    "from sklearn.preprocessing import StandardScaler\n",
    "scaler = StandardScaler()\n",
    "X_tr_tr_rescaled = scaler.fit_transform(X_tr_tr)\n",
    "X_tr_valid_rescaled = scaler.transform(X_tr_valid)"
   ]
  },
  {
   "cell_type": "code",
   "execution_count": 105,
   "metadata": {},
   "outputs": [],
   "source": [
    "# Batch generator\n",
    "def get_batches(X, y, batch_size):\n",
    "    # Shuffle X,y\n",
    "    shuffled_idx = np.arange(len(y)) \n",
    "    np.random.shuffle(shuffled_idx)\n",
    "\n",
    "    for i in range(0, len(y), batch_size):\n",
    "        # Batch indexes\n",
    "        batch_idx = shuffled_idx[i:i+batch_size]\n",
    "        yield X[batch_idx], y[batch_idx]"
   ]
  },
  {
   "cell_type": "code",
   "execution_count": 126,
   "metadata": {},
   "outputs": [
    {
     "name": "stdout",
     "output_type": "stream",
     "text": [
      "Epoch 1 - valid: 0.544 train: 0.375 (mean)\n",
      "Epoch 2 - valid: 0.655 train: 0.518 (mean)\n",
      "Epoch 3 - valid: 0.710 train: 0.573 (mean)\n",
      "Epoch 4 - valid: 0.738 train: 0.627 (mean)\n",
      "Epoch 5 - valid: 0.748 train: 0.654 (mean)\n",
      "Epoch 6 - valid: 0.752 train: 0.695 (mean)\n",
      "Epoch 7 - valid: 0.770 train: 0.706 (mean)\n",
      "Epoch 8 - valid: 0.780 train: 0.715 (mean)\n",
      "Epoch 9 - valid: 0.783 train: 0.736 (mean)\n",
      "Epoch 10 - valid: 0.781 train: 0.728 (mean)\n",
      "Epoch 11 - valid: 0.784 train: 0.756 (mean)\n",
      "Epoch 12 - valid: 0.801 train: 0.747 (mean)\n",
      "Epoch 13 - valid: 0.795 train: 0.768 (mean)\n",
      "Epoch 14 - valid: 0.796 train: 0.770 (mean)\n",
      "Epoch 15 - valid: 0.801 train: 0.775 (mean)\n",
      "Epoch 16 - valid: 0.799 train: 0.781 (mean)\n",
      "Epoch 17 - valid: 0.800 train: 0.775 (mean)\n",
      "Epoch 18 - valid: 0.805 train: 0.784 (mean)\n",
      "Epoch 19 - valid: 0.805 train: 0.791 (mean)\n",
      "Epoch 20 - valid: 0.805 train: 0.794 (mean)\n",
      "Epoch 21 - valid: 0.804 train: 0.797 (mean)\n",
      "Epoch 22 - valid: 0.805 train: 0.796 (mean)\n",
      "Epoch 23 - valid: 0.805 train: 0.807 (mean)\n",
      "Epoch 24 - valid: 0.806 train: 0.799 (mean)\n",
      "Epoch 25 - valid: 0.809 train: 0.800 (mean)\n",
      "Epoch 26 - valid: 0.808 train: 0.806 (mean)\n",
      "Epoch 27 - valid: 0.812 train: 0.800 (mean)\n",
      "Epoch 28 - valid: 0.812 train: 0.810 (mean)\n",
      "Epoch 29 - valid: 0.815 train: 0.811 (mean)\n",
      "Epoch 30 - valid: 0.814 train: 0.817 (mean)\n",
      "Epoch 31 - valid: 0.812 train: 0.827 (mean)\n",
      "Epoch 32 - valid: 0.814 train: 0.822 (mean)\n",
      "Epoch 33 - valid: 0.817 train: 0.826 (mean)\n",
      "Epoch 34 - valid: 0.820 train: 0.820 (mean)\n",
      "Epoch 35 - valid: 0.821 train: 0.817 (mean)\n",
      "Epoch 36 - valid: 0.820 train: 0.828 (mean)\n",
      "Epoch 37 - valid: 0.820 train: 0.817 (mean)\n",
      "Epoch 38 - valid: 0.820 train: 0.823 (mean)\n",
      "Epoch 39 - valid: 0.821 train: 0.822 (mean)\n",
      "Epoch 40 - valid: 0.820 train: 0.832 (mean)\n",
      "Epoch 41 - valid: 0.820 train: 0.828 (mean)\n",
      "Epoch 42 - valid: 0.820 train: 0.823 (mean)\n",
      "Epoch 43 - valid: 0.821 train: 0.822 (mean)\n",
      "Epoch 44 - valid: 0.822 train: 0.835 (mean)\n",
      "Epoch 45 - valid: 0.824 train: 0.834 (mean)\n",
      "Epoch 46 - valid: 0.821 train: 0.835 (mean)\n",
      "Epoch 47 - valid: 0.821 train: 0.844 (mean)\n",
      "Epoch 48 - valid: 0.821 train: 0.843 (mean)\n",
      "Epoch 49 - valid: 0.821 train: 0.842 (mean)\n",
      "Epoch 50 - valid: 0.817 train: 0.842 (mean)\n"
     ]
    }
   ],
   "source": [
    "# Validation accuracy\n",
    "valid_acc_values = []\n",
    "\n",
    "with tf.Session(graph=graph) as sess:\n",
    "    # Initialize variables\n",
    "    sess.run(tf.global_variables_initializer())\n",
    "\n",
    "    # Set seed\n",
    "    np.random.seed(0)\n",
    "\n",
    "    # Train several epochs\n",
    "    for epoch in range(50):\n",
    "        # Accuracy values (train) after each batch\n",
    "        batch_acc = []\n",
    "\n",
    "        # Get batches of data\n",
    "        for X_batch, y_batch in get_batches(X_tr_tr_rescaled, y_tr_tr, 64):\n",
    "            # Run training and evaluate accuracy\n",
    "            _, acc_value = sess.run([train_op, accuracy], feed_dict={\n",
    "                X: X_batch,\n",
    "                y: y_batch, \n",
    "                lr: 0.001, \n",
    "                training: True,\n",
    "                alpha: 0.1\n",
    "            })\n",
    "\n",
    "            # Save accuracy (current batch)\n",
    "            batch_acc.append(acc_value)\n",
    "\n",
    "        # Evaluate validation accuracy\n",
    "        valid_acc = sess.run(accuracy, feed_dict={\n",
    "            X: X_tr_valid_rescaled,\n",
    "            y: y_tr_valid,\n",
    "            training: False # Do not apply dropout\n",
    "        })\n",
    "        valid_acc_values.append(valid_acc)\n",
    "\n",
    "        # Print progress\n",
    "        print('Epoch {} - valid: {:.3f} train: {:.3f} (mean)'.format(\n",
    "            epoch+1, valid_acc, np.mean(batch_acc)\n",
    "        ))\n",
    "\n",
    "    # Weights of the hidden layer\n",
    "    weights_hidden = W1.eval()"
   ]
  },
  {
   "cell_type": "code",
   "execution_count": 127,
   "metadata": {},
   "outputs": [
    {
     "data": {
      "image/png": "[encoded data removed]",
      "text/plain": [
       "<matplotlib.figure.Figure at 0x1a42115518>"
      ]
     },
     "metadata": {},
     "output_type": "display_data"
    }
   ],
   "source": [
    "%matplotlib inline\n",
    "import matplotlib.pyplot as plt\n",
    "\n",
    "# Plot accuracy values\n",
    "plt.plot(valid_acc_values)\n",
    "plt.title('Validation accuracy {:.3f} (mean last 3)'.format(\n",
    "    np.mean(valid_acc_values[-3:]) # last three values\n",
    "))\n",
    "plt.xlabel('epoch')\n",
    "plt.ylabel('accuracy')\n",
    "plt.show()"
   ]
  },
  {
   "cell_type": "code",
   "execution_count": 140,
   "metadata": {},
   "outputs": [
    {
     "name": "stdout",
     "output_type": "stream",
     "text": [
      "Epoch 1 - test: 0.576 train: 0.390 (mean)\n",
      "Epoch 2 - test: 0.675 train: 0.550 (mean)\n",
      "Epoch 3 - test: 0.721 train: 0.614 (mean)\n",
      "Epoch 4 - test: 0.747 train: 0.652 (mean)\n",
      "Epoch 5 - test: 0.755 train: 0.685 (mean)\n",
      "Epoch 6 - test: 0.769 train: 0.707 (mean)\n",
      "Epoch 7 - test: 0.774 train: 0.712 (mean)\n",
      "Epoch 8 - test: 0.782 train: 0.734 (mean)\n",
      "Epoch 9 - test: 0.783 train: 0.747 (mean)\n",
      "Epoch 10 - test: 0.787 train: 0.750 (mean)\n",
      "Epoch 11 - test: 0.793 train: 0.758 (mean)\n",
      "Epoch 12 - test: 0.795 train: 0.766 (mean)\n",
      "Epoch 13 - test: 0.799 train: 0.754 (mean)\n",
      "Epoch 14 - test: 0.800 train: 0.780 (mean)\n",
      "Epoch 15 - test: 0.800 train: 0.784 (mean)\n",
      "Epoch 16 - test: 0.805 train: 0.782 (mean)\n",
      "Epoch 17 - test: 0.800 train: 0.787 (mean)\n",
      "Epoch 18 - test: 0.804 train: 0.792 (mean)\n",
      "Epoch 19 - test: 0.802 train: 0.788 (mean)\n",
      "Epoch 20 - test: 0.804 train: 0.801 (mean)\n",
      "Epoch 21 - test: 0.807 train: 0.808 (mean)\n",
      "Epoch 22 - test: 0.811 train: 0.808 (mean)\n",
      "Epoch 23 - test: 0.816 train: 0.809 (mean)\n",
      "Epoch 24 - test: 0.813 train: 0.806 (mean)\n",
      "Epoch 25 - test: 0.808 train: 0.807 (mean)\n",
      "Epoch 26 - test: 0.814 train: 0.815 (mean)\n",
      "Epoch 27 - test: 0.816 train: 0.808 (mean)\n",
      "Epoch 28 - test: 0.817 train: 0.818 (mean)\n",
      "Epoch 29 - test: 0.818 train: 0.812 (mean)\n",
      "Epoch 30 - test: 0.822 train: 0.827 (mean)\n",
      "Epoch 31 - test: 0.824 train: 0.813 (mean)\n",
      "Epoch 32 - test: 0.824 train: 0.827 (mean)\n",
      "Epoch 33 - test: 0.824 train: 0.831 (mean)\n",
      "Epoch 34 - test: 0.824 train: 0.817 (mean)\n",
      "Epoch 35 - test: 0.826 train: 0.823 (mean)\n",
      "Epoch 36 - test: 0.827 train: 0.830 (mean)\n",
      "Epoch 37 - test: 0.821 train: 0.834 (mean)\n",
      "Epoch 38 - test: 0.825 train: 0.828 (mean)\n",
      "Epoch 39 - test: 0.823 train: 0.830 (mean)\n",
      "Epoch 40 - test: 0.829 train: 0.834 (mean)\n",
      "Epoch 41 - test: 0.826 train: 0.833 (mean)\n",
      "Epoch 42 - test: 0.826 train: 0.832 (mean)\n",
      "Epoch 43 - test: 0.827 train: 0.829 (mean)\n",
      "Epoch 44 - test: 0.828 train: 0.835 (mean)\n",
      "Epoch 45 - test: 0.831 train: 0.837 (mean)\n",
      "Epoch 46 - test: 0.830 train: 0.838 (mean)\n",
      "Epoch 47 - test: 0.831 train: 0.837 (mean)\n",
      "Epoch 48 - test: 0.832 train: 0.841 (mean)\n",
      "Epoch 49 - test: 0.833 train: 0.839 (mean)\n",
      "Epoch 50 - test: 0.834 train: 0.846 (mean)\n"
     ]
    }
   ],
   "source": [
    "X_tr_rescaled = scaler.transform(X_tr)\n",
    "X_te_rescaled = scaler.transform(X_te)\n",
    "\n",
    "# Test Accuracy\n",
    "test_acc_values = []\n",
    "\n",
    "with tf.Session(graph=graph) as sess:\n",
    "    # Initialize variables\n",
    "    sess.run(tf.global_variables_initializer())\n",
    "\n",
    "    # Set seed\n",
    "    np.random.seed(0)\n",
    "\n",
    "    # Train several epochs\n",
    "    for epoch in range(50):\n",
    "        # Accuracy values (train) after each batch\n",
    "        batch_acc = []\n",
    "\n",
    "        # Get batches of data\n",
    "        for X_batch, y_batch in get_batches(X_tr_rescaled, y_tr, 64):\n",
    "            # Run training and evaluate accuracy\n",
    "            _, acc_value = sess.run([train_op, accuracy], feed_dict={\n",
    "                X: X_batch,\n",
    "                y: y_batch, \n",
    "                lr: 0.001, \n",
    "                training: True,\n",
    "                alpha: 0.1\n",
    "            })\n",
    "\n",
    "            # Save accuracy (current batch)\n",
    "            batch_acc.append(acc_value)\n",
    "\n",
    "        # Evaluate test accuracy\n",
    "        test_acc = sess.run(accuracy, feed_dict={\n",
    "            X: X_te_rescaled,\n",
    "            y: y_te,\n",
    "            training: False # Do not apply dropout\n",
    "        })\n",
    "        test_acc_values.append(test_acc)\n",
    "\n",
    "        # Print progress\n",
    "        print('Epoch {} - test: {:.3f} train: {:.3f} (mean)'.format(\n",
    "            epoch+1, test_acc, np.mean(batch_acc)\n",
    "        ))\n",
    "\n",
    "    # Weights of the hidden layer\n",
    "    weights_hidden = W1.eval()"
   ]
  },
  {
   "cell_type": "code",
   "execution_count": 141,
   "metadata": {
    "scrolled": true
   },
   "outputs": [
    {
     "name": "stdout",
     "output_type": "stream",
     "text": [
      "test accuracy 0.833 (mean last 3)\n"
     ]
    }
   ],
   "source": [
    "print('test accuracy {:.3f} (mean last 3)'.format(np.mean(test_acc_values[-3:])))"
   ]
  },
  {
   "cell_type": "markdown",
   "metadata": {},
   "source": [
    "# Selected this model to predict cifar4-test results"
   ]
  },
  {
   "cell_type": "code",
   "execution_count": 145,
   "metadata": {},
   "outputs": [
    {
     "data": {
      "text/plain": [
       "dict_keys(['pixels', 'overfeat', 'allow_pickle'])"
      ]
     },
     "execution_count": 145,
     "metadata": {},
     "output_type": "execute_result"
    }
   ],
   "source": [
    "import numpy as np\n",
    "with np.load('cifar4-test.npz', allow_pickle=False) as npz_file:\n",
    "    df = dict(npz_file.items())\n",
    "df.keys()"
   ]
  },
  {
   "cell_type": "code",
   "execution_count": 146,
   "metadata": {},
   "outputs": [],
   "source": [
    "X_test = df['overfeat']"
   ]
  },
  {
   "cell_type": "code",
   "execution_count": 147,
   "metadata": {},
   "outputs": [],
   "source": [
    "with tf.Session(graph=graph) as sess:\n",
    "    \n",
    "    sess.run(tf.global_variables_initializer())\n",
    "    \n",
    "    y_test = sess.run(predictions, feed_dict={\n",
    "        X: X_test,\n",
    "        training: False\n",
    "    })"
   ]
  },
  {
   "cell_type": "code",
   "execution_count": 149,
   "metadata": {},
   "outputs": [],
   "source": [
    "np.save('test-predictions.npy', y_test)"
   ]
  },
  {
   "cell_type": "code",
   "execution_count": 150,
   "metadata": {},
   "outputs": [
    {
     "data": {
      "text/plain": [
       "array([2, 2, 2, 1, 2, 1, 2, 2, 2, 2, 1, 1, 2, 2, 1, 1, 1, 2, 2, 2, 2, 2,\n",
       "       1, 2, 1, 0, 2, 2, 0, 2, 2, 2, 2, 2, 2, 2, 2, 1, 1, 2, 2, 2, 2, 2,\n",
       "       2, 2, 1, 2, 2, 2, 1, 1, 1, 0, 2, 2, 2, 2, 2, 2, 2, 2, 1, 2, 2, 2,\n",
       "       2, 2, 2, 1, 2, 2, 2, 1, 2, 2, 2, 2, 2, 2, 2, 2, 2, 2, 2, 2, 1, 2,\n",
       "       2, 2, 2, 1, 2, 2, 2, 2, 2, 1, 2, 1, 2, 2, 2, 2, 2, 1, 2, 0, 2, 2,\n",
       "       2, 2, 1, 2, 2, 2, 2, 2, 2, 2, 2, 2, 1, 2, 2, 2, 1, 2, 2, 3, 1, 2,\n",
       "       2, 2, 2, 2, 2, 1, 2, 2, 2, 0, 2, 2, 2, 2, 2, 2, 2, 2, 2, 2, 1, 1,\n",
       "       1, 1, 2, 2, 2, 2, 2, 2, 2, 1, 2, 2, 2, 2, 2, 1, 2, 2, 1, 2, 1, 2,\n",
       "       2, 2, 2, 1, 1, 2, 2, 2, 1, 2, 2, 1, 2, 1, 2, 2, 2, 2, 0, 2, 2, 2,\n",
       "       1, 2, 2, 2, 2, 2, 2, 2, 2, 2, 2, 2, 2, 1, 2, 2, 1, 2, 2, 2, 2, 2,\n",
       "       2, 2, 2, 2, 2, 2, 2, 2, 2, 2, 2, 2, 2, 1, 1, 2, 2, 2, 2, 1, 2, 2,\n",
       "       1, 2, 2, 2, 1, 1, 1, 0, 2, 2, 2, 2, 1, 2, 2, 2, 1, 2, 2, 0, 1, 2,\n",
       "       1, 1, 2, 1, 1, 2, 2, 2, 2, 2, 2, 1, 0, 2, 2, 2, 2, 0, 1, 2, 2, 2,\n",
       "       2, 2, 2, 1, 1, 2, 1, 2, 2, 2, 1, 0, 1, 2, 0, 2, 2, 2, 2, 2, 1, 2,\n",
       "       1, 2, 2, 2, 2, 2, 2, 2, 1, 1, 0, 2, 2, 2, 2, 2, 2, 2, 2, 1, 2, 1,\n",
       "       2, 2, 2, 2, 2, 2, 2, 2, 2, 2, 2, 1, 2, 2, 2, 2, 2, 2, 2, 1, 2, 2,\n",
       "       2, 1, 2, 2, 1, 2, 2, 2, 2, 2, 2, 2, 2, 1, 2, 2, 2, 2, 2, 2, 2, 1,\n",
       "       2, 2, 2, 1, 1, 2, 2, 2, 2, 2, 2, 2, 1, 2, 2, 2, 2, 1, 2, 2, 2, 1,\n",
       "       2, 2, 2, 2, 2, 2, 1, 2, 1, 1, 2, 2, 0, 2, 2, 1, 1, 2, 2, 2, 2, 2,\n",
       "       1, 1, 1, 2, 0, 2, 2, 2, 2, 2, 2, 2, 1, 2, 2, 1, 1, 2, 2, 1, 2, 2,\n",
       "       1, 2, 2, 1, 2, 2, 2, 2, 2, 2, 2, 2, 2, 2, 1, 1, 2, 2, 2, 1, 2, 2,\n",
       "       1, 2, 2, 2, 2, 2, 2, 2, 2, 1, 2, 2, 2, 2, 2, 2, 2, 2, 2, 2, 2, 2,\n",
       "       1, 2, 2, 2, 1, 2, 2, 1, 2, 2, 2, 2, 2, 2, 1, 2, 2, 2, 2, 2, 2, 1,\n",
       "       2, 2, 2, 1, 2, 2, 2, 1, 2, 2, 2, 2, 2, 2, 2, 1, 2, 1, 2, 2, 2, 2,\n",
       "       2, 1, 2, 2, 2, 2, 2, 2, 1, 2, 2, 1, 2, 2, 2, 2, 2, 2, 1, 2, 1, 1,\n",
       "       1, 2, 2, 1, 2, 2, 2, 2, 2, 2, 2, 1, 2, 2, 2, 2, 2, 1, 2, 1, 2, 2,\n",
       "       2, 2, 2, 1, 2, 2, 2, 1, 2, 1, 2, 1, 1, 2, 2, 2, 2, 2, 1, 2, 1, 2,\n",
       "       2, 2, 2, 2, 2, 2, 2, 2, 2, 2, 1, 2, 1, 2, 2, 2, 2, 2, 1, 2, 2, 2,\n",
       "       2, 1, 2, 1, 1, 2, 1, 2, 2, 2, 2, 2, 2, 2, 2, 1, 2, 2, 2, 2, 2, 2,\n",
       "       2, 1, 2, 2, 2, 2, 2, 1, 2, 1, 2, 2, 1, 2, 1, 2, 2, 2, 2, 2, 2, 2,\n",
       "       1, 1, 2, 2, 2, 2, 2, 2, 2, 2, 2, 2, 2, 1, 1, 2, 2, 2, 2, 2, 2, 2,\n",
       "       1, 1, 1, 2, 2, 2, 2, 2, 1, 2, 2, 2, 2, 2, 2, 2, 2, 1, 2, 2, 2, 2,\n",
       "       1, 1, 2, 2, 2, 1, 2, 3, 2, 2, 2, 1, 1, 1, 2, 2, 2, 1, 2, 2, 2, 2,\n",
       "       2, 2, 1, 1, 1, 2, 2, 2, 2, 2, 0, 2, 2, 2, 2, 2, 2, 2, 2, 2, 1, 2,\n",
       "       2, 2, 1, 2, 2, 2, 1, 2, 2, 2, 2, 2, 1, 1, 2, 2, 2, 2, 2, 2, 1, 2,\n",
       "       2, 2, 2, 2, 2, 2, 2, 2, 2, 2, 2, 2, 2, 2, 2, 2, 2, 2, 2, 2, 1, 2,\n",
       "       1, 2, 2, 2, 2, 2, 2, 2, 2, 2, 2, 2, 1, 2, 2, 2, 2, 2, 2, 2, 2, 2,\n",
       "       1, 2, 1, 2, 2, 2, 2, 2, 2, 2, 2, 1, 1, 2, 2, 1, 2, 2, 2, 2, 2, 1,\n",
       "       2, 2, 2, 2, 1, 2, 2, 1, 2, 2, 2, 2, 2, 2, 2, 2, 2, 2, 2, 2, 2, 2,\n",
       "       2, 2, 2, 2, 2, 2, 1, 2, 1, 2, 2, 1, 2, 2, 1, 2, 2, 2, 2, 2, 2, 2,\n",
       "       1, 2, 2, 2, 2, 2, 1, 1, 2, 2, 2, 2, 2, 2, 0, 2, 1, 2, 2, 2, 2, 1,\n",
       "       2, 1, 1, 2, 2, 2, 2, 2, 2, 1, 2, 2, 2, 2, 1, 2, 1, 2, 2, 1, 2, 2,\n",
       "       2, 0, 2, 2, 2, 1, 2, 2, 2, 2, 2, 2, 2, 0, 1, 2, 1, 2, 1, 2, 1, 2,\n",
       "       1, 2, 2, 2, 2, 1, 2, 2, 2, 2, 1, 2, 2, 2, 2, 2, 2, 2, 2, 2, 2, 2,\n",
       "       2, 2, 2, 2, 2, 2, 2, 2, 2, 2, 2, 2, 1, 2, 2, 1, 2, 2, 2, 1, 2, 2,\n",
       "       2, 2, 2, 2, 2, 2, 1, 2, 2, 2])"
      ]
     },
     "execution_count": 150,
     "metadata": {},
     "output_type": "execute_result"
    }
   ],
   "source": [
    "np.load('test-predictions.npy')"
   ]
  },
  {
   "cell_type": "code",
   "execution_count": null,
   "metadata": {},
   "outputs": [],
   "source": []
  }
 ],
 "metadata": {
  "kernelspec": {
   "display_name": "Python 3",
   "language": "python",
   "name": "python3"
  },
  "language_info": {
   "codemirror_mode": {
    "name": "ipython",
    "version": 3
   },
   "file_extension": ".py",
   "mimetype": "text/x-python",
   "name": "python",
   "nbconvert_exporter": "python",
   "pygments_lexer": "ipython3",
   "version": "3.6.4"
  }
 },
 "nbformat": 4,
 "nbformat_minor": 2
}
