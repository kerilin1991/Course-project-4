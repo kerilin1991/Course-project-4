{
 "cells": [
  {
   "cell_type": "code",
   "execution_count": 2,
   "metadata": {},
   "outputs": [],
   "source": [
    "import numpy as np\n",
    "from sklearn.tree import DecisionTreeClassifier\n",
    "with np.load('cifar4-train.npz', allow_pickle=False) as npz_file:\n",
    "    df = dict(npz_file.items())\n",
    "X = df['overfeat']\n",
    "y = df['labels']\n",
    "from sklearn.model_selection import train_test_split\n",
    "X_tr,X_te,y_tr,y_te = train_test_split(X,y,train_size=4000,test_size=1000,random_state=0,stratify = y)"
   ]
  },
  {
   "cell_type": "code",
   "execution_count": 5,
   "metadata": {},
   "outputs": [],
   "source": [
    "X_tr_tr,X_tr_valid,y_tr_tr,y_tr_valid = train_test_split(X_tr,y_tr,train_size=3200,test_size=800,random_state=0)"
   ]
  },
  {
   "cell_type": "code",
   "execution_count": 32,
   "metadata": {},
   "outputs": [],
   "source": [
    "max_depth = np.arange(1,20)\n",
    "scores = []\n",
    "\n",
    "for d in max_depth:\n",
    "    dt = DecisionTreeClassifier(criterion='gini', max_depth=d, random_state=0)\n",
    "    dt.fit(X_tr_tr,y_tr_tr)\n",
    "    train_accuracy = dt.score(X_tr_tr,y_tr_tr)\n",
    "    validation_accuracy = dt.score(X_tr_valid, y_tr_valid)\n",
    "    scores.append({'depth': d, 'train accuracy': train_accuracy,'validation accuracy': validation_accuracy})"
   ]
  },
  {
   "cell_type": "code",
   "execution_count": 34,
   "metadata": {},
   "outputs": [
    {
     "data": {
      "text/html": [
       "<div>\n",
       "<style scoped>\n",
       "    .dataframe tbody tr th:only-of-type {\n",
       "        vertical-align: middle;\n",
       "    }\n",
       "\n",
       "    .dataframe tbody tr th {\n",
       "        vertical-align: top;\n",
       "    }\n",
       "\n",
       "    .dataframe thead th {\n",
       "        text-align: right;\n",
       "    }\n",
       "</style>\n",
       "<table border=\"1\" class=\"dataframe\">\n",
       "  <thead>\n",
       "    <tr style=\"text-align: right;\">\n",
       "      <th></th>\n",
       "      <th>depth</th>\n",
       "      <th>train accuracy</th>\n",
       "      <th>validation accuracy</th>\n",
       "    </tr>\n",
       "  </thead>\n",
       "  <tbody>\n",
       "    <tr>\n",
       "      <th>5</th>\n",
       "      <td>6</td>\n",
       "      <td>0.768750</td>\n",
       "      <td>0.60750</td>\n",
       "    </tr>\n",
       "    <tr>\n",
       "      <th>6</th>\n",
       "      <td>7</td>\n",
       "      <td>0.832500</td>\n",
       "      <td>0.60375</td>\n",
       "    </tr>\n",
       "    <tr>\n",
       "      <th>11</th>\n",
       "      <td>12</td>\n",
       "      <td>0.992188</td>\n",
       "      <td>0.59625</td>\n",
       "    </tr>\n",
       "    <tr>\n",
       "      <th>9</th>\n",
       "      <td>10</td>\n",
       "      <td>0.975000</td>\n",
       "      <td>0.59500</td>\n",
       "    </tr>\n",
       "    <tr>\n",
       "      <th>4</th>\n",
       "      <td>5</td>\n",
       "      <td>0.712187</td>\n",
       "      <td>0.59250</td>\n",
       "    </tr>\n",
       "  </tbody>\n",
       "</table>\n",
       "</div>"
      ],
      "text/plain": [
       "    depth  train accuracy  validation accuracy\n",
       "5       6        0.768750              0.60750\n",
       "6       7        0.832500              0.60375\n",
       "11     12        0.992188              0.59625\n",
       "9      10        0.975000              0.59500\n",
       "4       5        0.712187              0.59250"
      ]
     },
     "execution_count": 34,
     "metadata": {},
     "output_type": "execute_result"
    }
   ],
   "source": [
    "import pandas as pd\n",
    "score = pd.DataFrame(scores)\n",
    "score.sort_values(by='validation accuracy',ascending=False).head()"
   ]
  },
  {
   "cell_type": "markdown",
   "metadata": {},
   "source": [
    "Below added preprocessing with PCA, results slighted improved."
   ]
  },
  {
   "cell_type": "code",
   "execution_count": 23,
   "metadata": {},
   "outputs": [],
   "source": [
    "from sklearn.pipeline import Pipeline\n",
    "from sklearn.decomposition import PCA\n",
    "pipe = Pipeline([\n",
    "    ('pca', PCA(n_components=163)),\n",
    "    ('dt', DecisionTreeClassifier())\n",
    "])"
   ]
  },
  {
   "cell_type": "code",
   "execution_count": 37,
   "metadata": {},
   "outputs": [],
   "source": [
    "max_depth = np.arange(1,20)\n",
    "scores=[]\n",
    "\n",
    "for d in max_depth:\n",
    "    pipe.set_params(dt__max_depth=d, dt__criterion='gini') \n",
    "    pipe.fit(X_tr_tr,y_tr_tr)\n",
    "    train_accuracy = pipe.score(X_tr_tr,y_tr_tr)\n",
    "    validation_accuracy = pipe.score(X_tr_valid, y_tr_valid)\n",
    "    scores.append({'depth': d, 'train accuracy': train_accuracy,'validation accuracy': validation_accuracy})"
   ]
  },
  {
   "cell_type": "code",
   "execution_count": 60,
   "metadata": {},
   "outputs": [
    {
     "data": {
      "text/html": [
       "<div>\n",
       "<style scoped>\n",
       "    .dataframe tbody tr th:only-of-type {\n",
       "        vertical-align: middle;\n",
       "    }\n",
       "\n",
       "    .dataframe tbody tr th {\n",
       "        vertical-align: top;\n",
       "    }\n",
       "\n",
       "    .dataframe thead th {\n",
       "        text-align: right;\n",
       "    }\n",
       "</style>\n",
       "<table border=\"1\" class=\"dataframe\">\n",
       "  <thead>\n",
       "    <tr style=\"text-align: right;\">\n",
       "      <th></th>\n",
       "      <th>depth</th>\n",
       "      <th>train accuracy</th>\n",
       "      <th>validation accuracy</th>\n",
       "    </tr>\n",
       "  </thead>\n",
       "  <tbody>\n",
       "    <tr>\n",
       "      <th>4</th>\n",
       "      <td>5</td>\n",
       "      <td>0.708750</td>\n",
       "      <td>0.64500</td>\n",
       "    </tr>\n",
       "    <tr>\n",
       "      <th>5</th>\n",
       "      <td>6</td>\n",
       "      <td>0.767500</td>\n",
       "      <td>0.64375</td>\n",
       "    </tr>\n",
       "    <tr>\n",
       "      <th>3</th>\n",
       "      <td>4</td>\n",
       "      <td>0.674375</td>\n",
       "      <td>0.62750</td>\n",
       "    </tr>\n",
       "    <tr>\n",
       "      <th>6</th>\n",
       "      <td>7</td>\n",
       "      <td>0.817813</td>\n",
       "      <td>0.62375</td>\n",
       "    </tr>\n",
       "    <tr>\n",
       "      <th>7</th>\n",
       "      <td>8</td>\n",
       "      <td>0.878125</td>\n",
       "      <td>0.62250</td>\n",
       "    </tr>\n",
       "  </tbody>\n",
       "</table>\n",
       "</div>"
      ],
      "text/plain": [
       "   depth  train accuracy  validation accuracy\n",
       "4      5        0.708750              0.64500\n",
       "5      6        0.767500              0.64375\n",
       "3      4        0.674375              0.62750\n",
       "6      7        0.817813              0.62375\n",
       "7      8        0.878125              0.62250"
      ]
     },
     "execution_count": 60,
     "metadata": {},
     "output_type": "execute_result"
    }
   ],
   "source": [
    "score1 = pd.DataFrame(scores)\n",
    "score.sort_values(by='validation accuracy',ascending=False).head()"
   ]
  },
  {
   "cell_type": "code",
   "execution_count": 62,
   "metadata": {},
   "outputs": [
    {
     "data": {
      "image/png": "[encoded data removed]",
      "text/plain": [
       "<matplotlib.figure.Figure at 0x1a3568e860>"
      ]
     },
     "metadata": {},
     "output_type": "display_data"
    }
   ],
   "source": [
    "%matplotlib inline\n",
    "from matplotlib import pyplot as plt\n",
    "a = score1.depth.values\n",
    "b = score1['validation accuracy'].values\n",
    "c = score1['train accuracy'].values\n",
    "plt.plot(a,b, label='validation score')\n",
    "plt.plot(a,c, label='train score')\n",
    "plt.xlabel('Decision tree depth')\n",
    "plt.ylabel('accuracy')\n",
    "plt.legend()\n",
    "plt.show()"
   ]
  },
  {
   "cell_type": "markdown",
   "metadata": {},
   "source": [
    "Depth 5 is where validation score reaches its highest. Before depth 5, both train and test accuracy increases with the depth, which means as the model becomes complex, model is less underfitting (high bias), after depth 5, train accuracy continues to increase and validation accuracy stopped to increase, which means the model is overfitting after depth 5, high variance."
   ]
  },
  {
   "cell_type": "code",
   "execution_count": 67,
   "metadata": {},
   "outputs": [
    {
     "name": "stdout",
     "output_type": "stream",
     "text": [
      "Top accuracy on validation set: 0.645 with depth: 5.0\n"
     ]
    }
   ],
   "source": [
    "d = score1.sort_values(by='validation accuracy',ascending=False).iloc[0]\n",
    "print('Top accuracy on validation set:', d[2], 'with depth:', d[0])"
   ]
  },
  {
   "cell_type": "code",
   "execution_count": 77,
   "metadata": {},
   "outputs": [],
   "source": [
    "from sklearn.ensemble import RandomForestClassifier\n",
    "n_estimators = [1,50,100,150,200,250,300]\n",
    "scores = []\n",
    "\n",
    "for n in n_estimators:\n",
    "    rt = RandomForestClassifier(n_estimators=n,max_depth=5,random_state=0)\n",
    "    rt.fit(X_tr_tr,y_tr_tr)\n",
    "    train_accuracy = rt.score(X_tr_tr,y_tr_tr)\n",
    "    validation_accuracy = rt.score(X_tr_valid, y_tr_valid)\n",
    "    scores.append({'n_estimators': n, 'train accuracy': train_accuracy,'validation accuracy': validation_accuracy})"
   ]
  },
  {
   "cell_type": "code",
   "execution_count": 78,
   "metadata": {},
   "outputs": [
    {
     "data": {
      "text/html": [
       "<div>\n",
       "<style scoped>\n",
       "    .dataframe tbody tr th:only-of-type {\n",
       "        vertical-align: middle;\n",
       "    }\n",
       "\n",
       "    .dataframe tbody tr th {\n",
       "        vertical-align: top;\n",
       "    }\n",
       "\n",
       "    .dataframe thead th {\n",
       "        text-align: right;\n",
       "    }\n",
       "</style>\n",
       "<table border=\"1\" class=\"dataframe\">\n",
       "  <thead>\n",
       "    <tr style=\"text-align: right;\">\n",
       "      <th></th>\n",
       "      <th>n_estimators</th>\n",
       "      <th>train accuracy</th>\n",
       "      <th>validation accuracy</th>\n",
       "    </tr>\n",
       "  </thead>\n",
       "  <tbody>\n",
       "    <tr>\n",
       "      <th>4</th>\n",
       "      <td>200</td>\n",
       "      <td>0.869687</td>\n",
       "      <td>0.7925</td>\n",
       "    </tr>\n",
       "    <tr>\n",
       "      <th>5</th>\n",
       "      <td>250</td>\n",
       "      <td>0.869375</td>\n",
       "      <td>0.7900</td>\n",
       "    </tr>\n",
       "    <tr>\n",
       "      <th>6</th>\n",
       "      <td>300</td>\n",
       "      <td>0.872812</td>\n",
       "      <td>0.7900</td>\n",
       "    </tr>\n",
       "    <tr>\n",
       "      <th>2</th>\n",
       "      <td>100</td>\n",
       "      <td>0.868750</td>\n",
       "      <td>0.7875</td>\n",
       "    </tr>\n",
       "    <tr>\n",
       "      <th>3</th>\n",
       "      <td>150</td>\n",
       "      <td>0.867500</td>\n",
       "      <td>0.7800</td>\n",
       "    </tr>\n",
       "  </tbody>\n",
       "</table>\n",
       "</div>"
      ],
      "text/plain": [
       "   n_estimators  train accuracy  validation accuracy\n",
       "4           200        0.869687               0.7925\n",
       "5           250        0.869375               0.7900\n",
       "6           300        0.872812               0.7900\n",
       "2           100        0.868750               0.7875\n",
       "3           150        0.867500               0.7800"
      ]
     },
     "execution_count": 78,
     "metadata": {},
     "output_type": "execute_result"
    }
   ],
   "source": [
    "rf_score = pd.DataFrame(scores)\n",
    "rf_score.sort_values(by='validation accuracy',ascending=False).head()"
   ]
  },
  {
   "cell_type": "markdown",
   "metadata": {},
   "source": [
    "# Use tuned model to fit test data"
   ]
  },
  {
   "cell_type": "code",
   "execution_count": 82,
   "metadata": {},
   "outputs": [
    {
     "name": "stdout",
     "output_type": "stream",
     "text": [
      "Decision Tree accuracy (test set): 0.658\n"
     ]
    }
   ],
   "source": [
    "dt = DecisionTreeClassifier(criterion='gini', max_depth=5, random_state=0)\n",
    "dt.fit(X_tr,y_tr)\n",
    "dt_accuracy = dt.score(X_te,y_te)\n",
    "print('Decision Tree accuracy (test set):', dt_accuracy)"
   ]
  },
  {
   "cell_type": "code",
   "execution_count": 81,
   "metadata": {},
   "outputs": [
    {
     "name": "stdout",
     "output_type": "stream",
     "text": [
      "Random forest accuracy (test set): 0.772\n"
     ]
    }
   ],
   "source": [
    "rt = RandomForestClassifier(n_estimators=200,max_depth=5,random_state=0)\n",
    "rf.fit(X_tr,y_tr)\n",
    "rf_accuracy = rf.score(X_te,y_te)\n",
    "print('Random forest accuracy (test set):', rf_accuracy)"
   ]
  },
  {
   "cell_type": "code",
   "execution_count": null,
   "metadata": {},
   "outputs": [],
   "source": []
  }
 ],
 "metadata": {
  "kernelspec": {
   "display_name": "Python 3",
   "language": "python",
   "name": "python3"
  },
  "language_info": {
   "codemirror_mode": {
    "name": "ipython",
    "version": 3
   },
   "file_extension": ".py",
   "mimetype": "text/x-python",
   "name": "python",
   "nbconvert_exporter": "python",
   "pygments_lexer": "ipython3",
   "version": "3.6.4"
  }
 },
 "nbformat": 4,
 "nbformat_minor": 2
}
