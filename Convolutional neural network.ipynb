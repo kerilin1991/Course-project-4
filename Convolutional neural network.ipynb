{
 "cells": [
  {
   "cell_type": "code",
   "execution_count": 305,
   "metadata": {},
   "outputs": [
    {
     "data": {
      "text/plain": [
       "(dtype('uint8'), dtype('int64'))"
      ]
     },
     "execution_count": 305,
     "metadata": {},
     "output_type": "execute_result"
    }
   ],
   "source": [
    "import numpy as np\n",
    "\n",
    "with np.load('cifar4-train.npz', allow_pickle=False) as npz_file:\n",
    "    df = dict(npz_file.items())\n",
    "X = df['pixels']\n",
    "y = df['labels']\n",
    "X.dtype, y.dtype"
   ]
  },
  {
   "cell_type": "code",
   "execution_count": 306,
   "metadata": {},
   "outputs": [
    {
     "data": {
      "text/plain": [
       "dtype('float32')"
      ]
     },
     "execution_count": 306,
     "metadata": {},
     "output_type": "execute_result"
    }
   ],
   "source": [
    "X = X.astype(np.float32)\n",
    "X.dtype"
   ]
  },
  {
   "cell_type": "code",
   "execution_count": 307,
   "metadata": {},
   "outputs": [],
   "source": [
    "# Rescale pixel values between -0.5 and 0.5\n",
    "X = (X - 128) / 255"
   ]
  },
  {
   "cell_type": "code",
   "execution_count": 308,
   "metadata": {},
   "outputs": [],
   "source": [
    "from sklearn.model_selection import train_test_split\n",
    "X_tr,X_te,y_tr,y_te = train_test_split(X.reshape(-1,32,32,3),y,train_size=4000,test_size=1000,random_state=0,stratify = y)\n",
    "X_tr_tr,X_tr_valid,y_tr_tr,y_tr_valid = train_test_split(X_tr,y_tr,train_size=3200,test_size=800,random_state=0)"
   ]
  },
  {
   "cell_type": "code",
   "execution_count": 309,
   "metadata": {},
   "outputs": [
    {
     "name": "stdout",
     "output_type": "stream",
     "text": [
      "(?, 16, 16, 64)\n"
     ]
    }
   ],
   "source": [
    "# Redefine graph\n",
    "graph = tf.Graph()\n",
    "\n",
    "with graph.as_default():\n",
    "    # Placeholders\n",
    "    X = tf.placeholder(dtype=tf.float32, shape=[None, 32, 32, 3])\n",
    "    y = tf.placeholder(dtype=tf.int64, shape=[None])\n",
    "\n",
    "    # Convolutional layer\n",
    "    conv = tf.layers.conv2d(\n",
    "        X, \n",
    "        filters=64, \n",
    "        kernel_size=(5, 5), \n",
    "        strides=(2, 2), \n",
    "        padding='SAME', \n",
    "        activation=tf.nn.relu,\n",
    "        kernel_initializer=tf.truncated_normal_initializer(\n",
    "            stddev=0.01, seed=0), \n",
    "        name='conv' \n",
    "    )\n",
    "\n",
    "print(conv.shape) "
   ]
  },
  {
   "cell_type": "code",
   "execution_count": 310,
   "metadata": {
    "scrolled": true
   },
   "outputs": [
    {
     "name": "stdout",
     "output_type": "stream",
     "text": [
      "(?, 8, 8, 64)\n"
     ]
    }
   ],
   "source": [
    "with graph.as_default():\n",
    "    # Max pooling layer\n",
    "    pool = tf.layers.max_pooling2d(\n",
    "        conv, # Convolution output\n",
    "        pool_size=(2, 2), \n",
    "        strides=(2, 2), \n",
    "        padding='SAME' \n",
    "    )\n",
    "\n",
    "print(pool.shape)"
   ]
  },
  {
   "cell_type": "code",
   "execution_count": 311,
   "metadata": {},
   "outputs": [
    {
     "name": "stdout",
     "output_type": "stream",
     "text": [
      "(?, 8, 8, 128)\n"
     ]
    }
   ],
   "source": [
    "with graph.as_default():\n",
    "    # Convolutional layer\n",
    "    conv2 = tf.layers.conv2d(\n",
    "        pool, \n",
    "        filters=128, \n",
    "        kernel_size=(3, 3),\n",
    "        strides=(1, 1), \n",
    "        padding='SAME', \n",
    "        activation=tf.nn.relu, \n",
    "        kernel_initializer=tf.truncated_normal_initializer(\n",
    "            stddev=0.01, seed=0), \n",
    "        name='conv3', \n",
    "    )\n",
    "print(conv2.shape)"
   ]
  },
  {
   "cell_type": "code",
   "execution_count": 312,
   "metadata": {},
   "outputs": [
    {
     "name": "stdout",
     "output_type": "stream",
     "text": [
      "(?, 4, 4, 128)\n"
     ]
    }
   ],
   "source": [
    "with graph.as_default():\n",
    "    pool2 = tf.layers.max_pooling2d(\n",
    "        conv2, pool_size=(2, 2), strides=(2, 2), padding='SAME')\n",
    "print(pool2.shape)"
   ]
  },
  {
   "cell_type": "code",
   "execution_count": 314,
   "metadata": {},
   "outputs": [],
   "source": [
    "with graph.as_default():\n",
    "    training = tf.placeholder(dtype=tf.bool)\n",
    "    pool2 = tf.layers.dropout(pool2, rate=0.5, seed=0, training=training)"
   ]
  },
  {
   "cell_type": "code",
   "execution_count": 316,
   "metadata": {},
   "outputs": [
    {
     "name": "stdout",
     "output_type": "stream",
     "text": [
      "(?, 2048)\n"
     ]
    }
   ],
   "source": [
    "with graph.as_default():\n",
    "    # Flatten output\n",
    "    flat_output = tf.contrib.layers.flatten(pool2)\n",
    "\n",
    "print(flat_output.shape)"
   ]
  },
  {
   "cell_type": "code",
   "execution_count": 317,
   "metadata": {},
   "outputs": [
    {
     "name": "stdout",
     "output_type": "stream",
     "text": [
      "(?, 256)\n"
     ]
    }
   ],
   "source": [
    "with graph.as_default():\n",
    "    # dense layer No.1\n",
    "    dense_1 = tf.layers.dense(\n",
    "        flat_output, 256, \n",
    "        activation=None, # No activation function\n",
    "        kernel_initializer=tf.variance_scaling_initializer(scale=1, seed=0),\n",
    "        bias_initializer=tf.zeros_initializer(),\n",
    "        name='dense_1'\n",
    "    )\n",
    "print(dense_1.shape)"
   ]
  },
  {
   "cell_type": "code",
   "execution_count": 318,
   "metadata": {},
   "outputs": [
    {
     "name": "stdout",
     "output_type": "stream",
     "text": [
      "(?, 4)\n"
     ]
    }
   ],
   "source": [
    "with graph.as_default():\n",
    "    # dense layer No.1\n",
    "    logits = tf.layers.dense(\n",
    "        dense_1, 4, \n",
    "        activation=None, # No activation function\n",
    "        kernel_initializer=tf.variance_scaling_initializer(scale=1, seed=0),\n",
    "        bias_initializer=tf.zeros_initializer(),\n",
    "        name='dense'\n",
    "    )\n",
    "print(logits.shape)"
   ]
  },
  {
   "cell_type": "code",
   "execution_count": 319,
   "metadata": {},
   "outputs": [],
   "source": [
    "with graph.as_default():\n",
    "    # Mean cross-entropy\n",
    "    mean_ce = tf.reduce_mean(\n",
    "        tf.nn.sparse_softmax_cross_entropy_with_logits(\n",
    "            labels=y, logits=logits))\n",
    "\n",
    "    # Adam optimizer\n",
    "    lr = tf.placeholder(dtype=tf.float32)\n",
    "    gd = tf.train.AdamOptimizer(learning_rate=lr)\n",
    "\n",
    "    # Minimize cross-entropy\n",
    "    train_op = gd.minimize(mean_ce)\n",
    "\n",
    "    # Compute predictions and accuracy\n",
    "    predictions = tf.argmax(logits, axis=1, output_type=tf.int64)\n",
    "    is_correct = tf.equal(y, predictions)\n",
    "    accuracy = tf.reduce_mean(tf.cast(is_correct, dtype=tf.float32))"
   ]
  },
  {
   "cell_type": "code",
   "execution_count": 320,
   "metadata": {},
   "outputs": [
    {
     "name": "stdout",
     "output_type": "stream",
     "text": [
      "(5, 5, 3, 64)\n"
     ]
    }
   ],
   "source": [
    "with graph.as_default():\n",
    "    # Kernel weights of the 1st conv. layer\n",
    "    with tf.variable_scope('conv', reuse=True):\n",
    "        conv_kernels = tf.get_variable('kernel')\n",
    "\n",
    "print(conv_kernels.shape) "
   ]
  },
  {
   "cell_type": "code",
   "execution_count": 321,
   "metadata": {},
   "outputs": [],
   "source": [
    "# Batch generator\n",
    "def get_batches(X, y, batch_size):\n",
    "    # Shuffle X,y\n",
    "    shuffled_idx = np.arange(len(y)) # 1,2,...,n\n",
    "    np.random.shuffle(shuffled_idx)\n",
    "\n",
    "    # Enumerate indexes by steps of batch_size\n",
    "    # i: 0, b, 2b, 3b, 4b, .. where b is the batch size\n",
    "    for i in range(0, len(y), batch_size):\n",
    "        # Batch indexes\n",
    "        batch_idx = shuffled_idx[i:i+batch_size]\n",
    "        yield X[batch_idx], y[batch_idx]"
   ]
  },
  {
   "cell_type": "code",
   "execution_count": 322,
   "metadata": {},
   "outputs": [
    {
     "name": "stdout",
     "output_type": "stream",
     "text": [
      "Epoch 1 - valid: 0.524 train: 0.457 (mean)\n",
      "Epoch 2 - valid: 0.569 train: 0.556 (mean)\n",
      "Epoch 3 - valid: 0.637 train: 0.603 (mean)\n",
      "Epoch 4 - valid: 0.674 train: 0.646 (mean)\n",
      "Epoch 5 - valid: 0.679 train: 0.688 (mean)\n",
      "Epoch 6 - valid: 0.680 train: 0.723 (mean)\n",
      "Epoch 7 - valid: 0.725 train: 0.733 (mean)\n",
      "Epoch 8 - valid: 0.736 train: 0.765 (mean)\n",
      "Epoch 9 - valid: 0.726 train: 0.788 (mean)\n",
      "Epoch 10 - valid: 0.736 train: 0.799 (mean)\n",
      "Epoch 11 - valid: 0.765 train: 0.795 (mean)\n",
      "Epoch 12 - valid: 0.748 train: 0.824 (mean)\n",
      "Epoch 13 - valid: 0.755 train: 0.833 (mean)\n",
      "Epoch 14 - valid: 0.750 train: 0.842 (mean)\n",
      "Epoch 15 - valid: 0.755 train: 0.860 (mean)\n",
      "Epoch 16 - valid: 0.760 train: 0.858 (mean)\n",
      "Epoch 17 - valid: 0.772 train: 0.872 (mean)\n",
      "Epoch 18 - valid: 0.765 train: 0.881 (mean)\n",
      "Epoch 19 - valid: 0.755 train: 0.886 (mean)\n",
      "Epoch 20 - valid: 0.766 train: 0.888 (mean)\n",
      "Epoch 21 - valid: 0.767 train: 0.896 (mean)\n",
      "Epoch 22 - valid: 0.760 train: 0.895 (mean)\n",
      "Epoch 23 - valid: 0.772 train: 0.897 (mean)\n",
      "Epoch 24 - valid: 0.788 train: 0.909 (mean)\n",
      "Epoch 25 - valid: 0.760 train: 0.908 (mean)\n",
      "Epoch 26 - valid: 0.771 train: 0.909 (mean)\n",
      "Epoch 27 - valid: 0.757 train: 0.921 (mean)\n",
      "Epoch 28 - valid: 0.776 train: 0.922 (mean)\n",
      "Epoch 29 - valid: 0.785 train: 0.926 (mean)\n",
      "Epoch 30 - valid: 0.772 train: 0.924 (mean)\n",
      "Epoch 31 - valid: 0.767 train: 0.927 (mean)\n",
      "Epoch 32 - valid: 0.784 train: 0.933 (mean)\n",
      "Epoch 33 - valid: 0.795 train: 0.938 (mean)\n",
      "Epoch 34 - valid: 0.791 train: 0.937 (mean)\n",
      "Epoch 35 - valid: 0.785 train: 0.951 (mean)\n",
      "Epoch 36 - valid: 0.783 train: 0.951 (mean)\n",
      "Epoch 37 - valid: 0.777 train: 0.948 (mean)\n",
      "Epoch 38 - valid: 0.780 train: 0.947 (mean)\n",
      "Epoch 39 - valid: 0.789 train: 0.945 (mean)\n",
      "Epoch 40 - valid: 0.798 train: 0.948 (mean)\n",
      "Epoch 41 - valid: 0.796 train: 0.947 (mean)\n",
      "Epoch 42 - valid: 0.779 train: 0.954 (mean)\n",
      "Epoch 43 - valid: 0.796 train: 0.949 (mean)\n",
      "Epoch 44 - valid: 0.774 train: 0.956 (mean)\n",
      "Epoch 45 - valid: 0.791 train: 0.946 (mean)\n",
      "Epoch 46 - valid: 0.803 train: 0.954 (mean)\n",
      "Epoch 47 - valid: 0.779 train: 0.960 (mean)\n",
      "Epoch 48 - valid: 0.805 train: 0.963 (mean)\n",
      "Epoch 49 - valid: 0.785 train: 0.969 (mean)\n",
      "Epoch 50 - valid: 0.800 train: 0.955 (mean)\n"
     ]
    }
   ],
   "source": [
    "# Validation accuracy\n",
    "valid_acc_values = []\n",
    "\n",
    "with tf.Session(graph=graph) as sess:\n",
    "    # Initialize variables\n",
    "    sess.run(tf.global_variables_initializer())\n",
    "\n",
    "    # Set seed\n",
    "    np.random.seed(0)\n",
    "\n",
    "    # Train several epochs\n",
    "    for epoch in range(50):\n",
    "        # Accuracy values (train) after each batch\n",
    "        batch_acc = []\n",
    "\n",
    "        for X_batch, y_batch in get_batches(X_tr_tr, y_tr_tr, 64):\n",
    "            # Run training and evaluate accuracy\n",
    "            _, acc_value = sess.run([train_op, accuracy], feed_dict={\n",
    "                X: X_batch,\n",
    "                y: y_batch,\n",
    "                training: True,\n",
    "                lr: 0.001 # Learning rate\n",
    "            })\n",
    "\n",
    "            # Save accuracy (current batch)\n",
    "            batch_acc.append(acc_value)\n",
    "\n",
    "        # Evaluate validation accuracy\n",
    "        valid_acc = sess.run(accuracy, feed_dict={\n",
    "            X: X_tr_valid,\n",
    "            y: y_tr_valid,\n",
    "            training: False\n",
    "        })\n",
    "        valid_acc_values.append(valid_acc)\n",
    "\n",
    "        # Print progress\n",
    "        print('Epoch {} - valid: {:.3f} train: {:.3f} (mean)'.format(\n",
    "            epoch+1, valid_acc, np.mean(batch_acc)\n",
    "        ))\n",
    "\n",
    "    # Get 1st conv. layer kernels\n",
    "    kernels = conv_kernels.eval()"
   ]
  },
  {
   "cell_type": "code",
   "execution_count": 323,
   "metadata": {},
   "outputs": [
    {
     "data": {
      "image/png": "[encoded data removed]",
      "text/plain": [
       "<matplotlib.figure.Figure at 0x1a36d03160>"
      ]
     },
     "metadata": {},
     "output_type": "display_data"
    }
   ],
   "source": [
    "%matplotlib inline\n",
    "import matplotlib.pyplot as plt\n",
    "\n",
    "# Plot accuracy values\n",
    "plt.plot(valid_acc_values)\n",
    "plt.title('Validation accuracy {:.3f} (mean last 3)'.format(\n",
    "    np.mean(valid_acc_values[-3:]) # last three values\n",
    "))\n",
    "plt.xlabel('epoch')\n",
    "plt.ylabel('accuracy')\n",
    "plt.show()"
   ]
  },
  {
   "cell_type": "markdown",
   "metadata": {},
   "source": [
    "Evaluate test set"
   ]
  },
  {
   "cell_type": "code",
   "execution_count": 326,
   "metadata": {},
   "outputs": [
    {
     "name": "stdout",
     "output_type": "stream",
     "text": [
      "Epoch 1 - test: 0.580 train: 0.489 (mean)\n",
      "Epoch 2 - test: 0.632 train: 0.574 (mean)\n",
      "Epoch 3 - test: 0.681 train: 0.637 (mean)\n",
      "Epoch 4 - test: 0.702 train: 0.667 (mean)\n",
      "Epoch 5 - test: 0.726 train: 0.723 (mean)\n",
      "Epoch 6 - test: 0.739 train: 0.731 (mean)\n",
      "Epoch 7 - test: 0.743 train: 0.765 (mean)\n",
      "Epoch 8 - test: 0.763 train: 0.768 (mean)\n",
      "Epoch 9 - test: 0.772 train: 0.792 (mean)\n",
      "Epoch 10 - test: 0.753 train: 0.803 (mean)\n",
      "Epoch 11 - test: 0.755 train: 0.826 (mean)\n",
      "Epoch 12 - test: 0.769 train: 0.825 (mean)\n",
      "Epoch 13 - test: 0.777 train: 0.842 (mean)\n",
      "Epoch 14 - test: 0.772 train: 0.859 (mean)\n",
      "Epoch 15 - test: 0.783 train: 0.862 (mean)\n",
      "Epoch 16 - test: 0.779 train: 0.859 (mean)\n",
      "Epoch 17 - test: 0.780 train: 0.880 (mean)\n",
      "Epoch 18 - test: 0.782 train: 0.883 (mean)\n",
      "Epoch 19 - test: 0.793 train: 0.893 (mean)\n",
      "Epoch 20 - test: 0.793 train: 0.899 (mean)\n",
      "Epoch 21 - test: 0.792 train: 0.900 (mean)\n",
      "Epoch 22 - test: 0.792 train: 0.907 (mean)\n",
      "Epoch 23 - test: 0.795 train: 0.914 (mean)\n",
      "Epoch 24 - test: 0.807 train: 0.913 (mean)\n",
      "Epoch 25 - test: 0.814 train: 0.912 (mean)\n",
      "Epoch 26 - test: 0.796 train: 0.931 (mean)\n",
      "Epoch 27 - test: 0.792 train: 0.920 (mean)\n",
      "Epoch 28 - test: 0.792 train: 0.926 (mean)\n",
      "Epoch 29 - test: 0.790 train: 0.929 (mean)\n",
      "Epoch 30 - test: 0.801 train: 0.934 (mean)\n",
      "Epoch 31 - test: 0.800 train: 0.934 (mean)\n",
      "Epoch 32 - test: 0.791 train: 0.936 (mean)\n",
      "Epoch 33 - test: 0.805 train: 0.937 (mean)\n",
      "Epoch 34 - test: 0.805 train: 0.944 (mean)\n",
      "Epoch 35 - test: 0.814 train: 0.952 (mean)\n",
      "Epoch 36 - test: 0.797 train: 0.938 (mean)\n",
      "Epoch 37 - test: 0.790 train: 0.949 (mean)\n",
      "Epoch 38 - test: 0.803 train: 0.945 (mean)\n",
      "Epoch 39 - test: 0.806 train: 0.952 (mean)\n",
      "Epoch 40 - test: 0.803 train: 0.948 (mean)\n",
      "Epoch 41 - test: 0.799 train: 0.955 (mean)\n",
      "Epoch 42 - test: 0.799 train: 0.956 (mean)\n",
      "Epoch 43 - test: 0.799 train: 0.949 (mean)\n",
      "Epoch 44 - test: 0.797 train: 0.954 (mean)\n",
      "Epoch 45 - test: 0.811 train: 0.961 (mean)\n",
      "Epoch 46 - test: 0.802 train: 0.959 (mean)\n",
      "Epoch 47 - test: 0.801 train: 0.947 (mean)\n",
      "Epoch 48 - test: 0.798 train: 0.964 (mean)\n",
      "Epoch 49 - test: 0.788 train: 0.962 (mean)\n",
      "Epoch 50 - test: 0.797 train: 0.955 (mean)\n"
     ]
    }
   ],
   "source": [
    "# Validation accuracy\n",
    "test_acc_values = []\n",
    "\n",
    "with tf.Session(graph=graph) as sess:\n",
    "    # Initialize variables\n",
    "    sess.run(tf.global_variables_initializer())\n",
    "\n",
    "    # Set seed\n",
    "    np.random.seed(0)\n",
    "\n",
    "    # Train several epochs\n",
    "    for epoch in range(50):\n",
    "        # Accuracy values (train) after each batch\n",
    "        batch_acc = []\n",
    "\n",
    "        for X_batch, y_batch in get_batches(X_tr, y_tr, 64):\n",
    "            # Run training and evaluate accuracy\n",
    "            _, acc_value = sess.run([train_op, accuracy], feed_dict={\n",
    "                X: X_batch,\n",
    "                y: y_batch,\n",
    "                training: True,\n",
    "                lr: 0.001 # Learning rate\n",
    "            })\n",
    "\n",
    "            # Save accuracy (current batch)\n",
    "            batch_acc.append(acc_value)\n",
    "\n",
    "        # Evaluate validation accuracy\n",
    "        test_acc = sess.run(accuracy, feed_dict={\n",
    "            X: X_te,\n",
    "            y: y_te,\n",
    "            training: False\n",
    "        })\n",
    "        test_acc_values.append(test_acc)\n",
    "\n",
    "        # Print progress\n",
    "        print('Epoch {} - test: {:.3f} train: {:.3f} (mean)'.format(\n",
    "            epoch+1, test_acc, np.mean(batch_acc)\n",
    "        ))\n",
    "\n",
    "    # Get 1st conv. layer kernels\n",
    "    kernels = conv_kernels.eval()"
   ]
  },
  {
   "cell_type": "code",
   "execution_count": 327,
   "metadata": {},
   "outputs": [
    {
     "data": {
      "image/png": "[encoded data removed]",
      "text/plain": [
       "<matplotlib.figure.Figure at 0x1a36cf3c18>"
      ]
     },
     "metadata": {},
     "output_type": "display_data"
    }
   ],
   "source": [
    "%matplotlib inline\n",
    "import matplotlib.pyplot as plt\n",
    "\n",
    "# Plot accuracy values\n",
    "plt.plot(test_acc_values)\n",
    "plt.title('Test accuracy {:.3f} (mean last 3)'.format(\n",
    "    np.mean(test_acc_values[-3:]) # last three values\n",
    "))\n",
    "plt.xlabel('epoch')\n",
    "plt.ylabel('accuracy')\n",
    "plt.show()"
   ]
  },
  {
   "cell_type": "code",
   "execution_count": 328,
   "metadata": {},
   "outputs": [
    {
     "data": {
      "image/png": "[encoded data removed]",
      "text/plain": [
       "<matplotlib.figure.Figure at 0x11568e710>"
      ]
     },
     "metadata": {},
     "output_type": "display_data"
    }
   ],
   "source": [
    "# Create a grid of subplots\n",
    "fig, axes = plt.subplots(nrows=8, ncols=8, figsize=(8, 8))\n",
    "\n",
    "# Remove gaps between suplots\n",
    "plt.subplots_adjust(wspace=0, hspace=0)\n",
    "\n",
    "# Plot the 64 kernels from the first convolutional layer\n",
    "for i, axis in enumerate(axes.flatten()):\n",
    "    # Get i-th kernel (shape: 5x5x3)\n",
    "    kernel = kernels[:, :, :, i].copy()\n",
    "    \n",
    "    # Rescale values between 0 and 1\n",
    "    kernel -= kernel.min() # Rescale between 0 and max\n",
    "    kernel /= kernel.max() # Rescale between 0 and 1\n",
    "    \n",
    "    # Plot kernel with imshow()\n",
    "    axis.imshow(kernel)\n",
    "    axis.get_xaxis().set_visible(False) # disable x-axis\n",
    "    axis.get_yaxis().set_visible(False) # disable y-axis\n",
    "    \n",
    "plt.show()"
   ]
  },
  {
   "cell_type": "code",
   "execution_count": null,
   "metadata": {},
   "outputs": [],
   "source": []
  }
 ],
 "metadata": {
  "kernelspec": {
   "display_name": "Python 3",
   "language": "python",
   "name": "python3"
  },
  "language_info": {
   "codemirror_mode": {
    "name": "ipython",
    "version": 3
   },
   "file_extension": ".py",
   "mimetype": "text/x-python",
   "name": "python",
   "nbconvert_exporter": "python",
   "pygments_lexer": "ipython3",
   "version": "3.6.4"
  }
 },
 "nbformat": 4,
 "nbformat_minor": 2
}
